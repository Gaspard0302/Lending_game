{
 "cells": [
  {
   "cell_type": "markdown",
   "metadata": {},
   "source": [
    "# Fintech name ideas:\n",
    "\n",
    "## 1. BrokeFund\n",
    "\n",
    "## 2. PayUpFront\n",
    "\n",
    "## 3. NoFunds Inc\n"
   ]
  },
  {
   "cell_type": "code",
   "execution_count": 128,
   "metadata": {},
   "outputs": [],
   "source": [
    "import pandas as pd\n",
    "import numpy as np\n",
    "import matplotlib.pyplot as plt\n",
    "import seaborn as sns\n",
    "\n",
    "\n",
    "from sklearn.model_selection import train_test_split\n",
    "from sklearn.metrics import accuracy_score, confusion_matrix, classification_report\n",
    "\n",
    "import xgboost as xgb\n",
    "from xgboost import XGBClassifier\n",
    "from sklearn.preprocessing import OneHotEncoder\n",
    "from sklearn.preprocessing import StandardScaler\n",
    "\n",
    "from imblearn.over_sampling import SMOTE"
   ]
  },
  {
   "cell_type": "code",
   "execution_count": 110,
   "metadata": {},
   "outputs": [],
   "source": [
    "past_loans = pd.read_csv('PastLoans.csv')"
   ]
  },
  {
   "cell_type": "code",
   "execution_count": 5,
   "metadata": {},
   "outputs": [],
   "source": [
    "new_applicants = pd.read_csv('NewApplications_Lender2_Round1.csv')"
   ]
  },
  {
   "cell_type": "code",
   "execution_count": 107,
   "metadata": {},
   "outputs": [],
   "source": [
    "# Group by 'sex' and 'default', and count the occurrences\n",
    "#grouped_data = past_loans.groupby(['sex', 'default']).size().unstack()\n",
    "\n",
    "# Create the bar plot\n",
    "#grouped_data.plot(kind='bar', stacked=False)\n",
    "\n",
    "# Add titles and labels\n",
    "#plt.title('Number of Defaulters by Sex')\n",
    "#plt.xlabel('Sex (0=Female, 1=Male)')\n",
    "#plt.ylabel('Count')\n",
    "#plt.xticks(rotation=0)\n",
    "\n",
    "# Show the plot\n",
    "#plt.show()"
   ]
  },
  {
   "cell_type": "code",
   "execution_count": 108,
   "metadata": {},
   "outputs": [],
   "source": [
    "# Group by 'married' and 'default', and count the occurrences\n",
    "#grouped_data2 = past_loans.groupby(['married', 'default']).size().unstack()\n",
    "\n",
    "# Create the bar plot\n",
    "#grouped_data2.plot(kind='bar', stacked=False)\n",
    "\n",
    "# Add titles and labels\n",
    "#plt.title('Number of Defaulters by Marital Status')\n",
    "#plt.xlabel('Marital Status (0=Not Married, 1=Married)')\n",
    "#plt.ylabel('Count')\n",
    "#plt.xticks(rotation=0)\n",
    "\n",
    "# Show the plot\n",
    "#plt.show()"
   ]
  },
  {
   "cell_type": "code",
   "execution_count": 109,
   "metadata": {},
   "outputs": [],
   "source": [
    "# Define smaller bins for people earning less than 50k, and larger bins for others\n",
    "#bins = [0, 10000, 20000, 30000, 40000, 50000, 100000, 500000, 1000000]\n",
    "#bin_labels = ['0-10k', '10-20k', '20-30k', '30-40k', '40-50k', '50-100k', '100-500k', '500k-1M']\n",
    "\n",
    "# Create a new column 'income_bin' by binning the 'income' column\n",
    "#past_loans['income_bin'] = pd.cut(past_loans['income'], bins=bins, labels=bin_labels)\n",
    "\n",
    "# Group by 'income_bin' and 'default', and count the occurrences\n",
    "#grouped_data = past_loans.groupby(['income_bin', 'default']).size().unstack()\n",
    "\n",
    "# Create the bar plot\n",
    "#grouped_data.plot(kind='bar', stacked=False)\n",
    "\n",
    "# Add titles and labels\n",
    "#plt.title('Number of Defaulters by Income Range')\n",
    "#plt.xlabel('Income Range')\n",
    "#plt.ylabel('Count')\n",
    "#plt.xticks(rotation=45)\n",
    "\n",
    "# Show the plot\n",
    "#plt.show()\n"
   ]
  },
  {
   "cell_type": "code",
   "execution_count": 11,
   "metadata": {},
   "outputs": [
    {
     "data": {
      "text/plain": [
       "default\n",
       "0    90053\n",
       "1     9947\n",
       "Name: count, dtype: int64"
      ]
     },
     "execution_count": 11,
     "metadata": {},
     "output_type": "execute_result"
    }
   ],
   "source": [
    "past_loans['default'].value_counts()"
   ]
  },
  {
   "cell_type": "code",
   "execution_count": 111,
   "metadata": {},
   "outputs": [
    {
     "data": {
      "text/html": [
       "<div>\n",
       "<style scoped>\n",
       "    .dataframe tbody tr th:only-of-type {\n",
       "        vertical-align: middle;\n",
       "    }\n",
       "\n",
       "    .dataframe tbody tr th {\n",
       "        vertical-align: top;\n",
       "    }\n",
       "\n",
       "    .dataframe thead th {\n",
       "        text-align: right;\n",
       "    }\n",
       "</style>\n",
       "<table border=\"1\" class=\"dataframe\">\n",
       "  <thead>\n",
       "    <tr style=\"text-align: right;\">\n",
       "      <th></th>\n",
       "      <th>sex</th>\n",
       "      <th>married</th>\n",
       "      <th>income</th>\n",
       "      <th>digital1</th>\n",
       "      <th>digital2</th>\n",
       "      <th>digital3</th>\n",
       "      <th>default</th>\n",
       "      <th>employment_employed</th>\n",
       "      <th>employment_retired</th>\n",
       "      <th>employment_student</th>\n",
       "      <th>employment_unemployed</th>\n",
       "    </tr>\n",
       "  </thead>\n",
       "  <tbody>\n",
       "    <tr>\n",
       "      <th>0</th>\n",
       "      <td>1</td>\n",
       "      <td>0</td>\n",
       "      <td>0</td>\n",
       "      <td>0.749267</td>\n",
       "      <td>0.422656</td>\n",
       "      <td>0.738735</td>\n",
       "      <td>0</td>\n",
       "      <td>0.0</td>\n",
       "      <td>0.0</td>\n",
       "      <td>0.0</td>\n",
       "      <td>1.0</td>\n",
       "    </tr>\n",
       "    <tr>\n",
       "      <th>1</th>\n",
       "      <td>1</td>\n",
       "      <td>1</td>\n",
       "      <td>26108</td>\n",
       "      <td>0.697428</td>\n",
       "      <td>0.596361</td>\n",
       "      <td>0.733947</td>\n",
       "      <td>0</td>\n",
       "      <td>1.0</td>\n",
       "      <td>0.0</td>\n",
       "      <td>0.0</td>\n",
       "      <td>0.0</td>\n",
       "    </tr>\n",
       "    <tr>\n",
       "      <th>2</th>\n",
       "      <td>1</td>\n",
       "      <td>1</td>\n",
       "      <td>11810</td>\n",
       "      <td>0.000000</td>\n",
       "      <td>0.652496</td>\n",
       "      <td>0.000000</td>\n",
       "      <td>0</td>\n",
       "      <td>1.0</td>\n",
       "      <td>0.0</td>\n",
       "      <td>0.0</td>\n",
       "      <td>0.0</td>\n",
       "    </tr>\n",
       "    <tr>\n",
       "      <th>3</th>\n",
       "      <td>1</td>\n",
       "      <td>1</td>\n",
       "      <td>0</td>\n",
       "      <td>0.000000</td>\n",
       "      <td>0.000000</td>\n",
       "      <td>0.000000</td>\n",
       "      <td>0</td>\n",
       "      <td>0.0</td>\n",
       "      <td>0.0</td>\n",
       "      <td>0.0</td>\n",
       "      <td>1.0</td>\n",
       "    </tr>\n",
       "    <tr>\n",
       "      <th>4</th>\n",
       "      <td>0</td>\n",
       "      <td>1</td>\n",
       "      <td>6310</td>\n",
       "      <td>0.000000</td>\n",
       "      <td>0.041123</td>\n",
       "      <td>0.203202</td>\n",
       "      <td>0</td>\n",
       "      <td>0.0</td>\n",
       "      <td>1.0</td>\n",
       "      <td>0.0</td>\n",
       "      <td>0.0</td>\n",
       "    </tr>\n",
       "  </tbody>\n",
       "</table>\n",
       "</div>"
      ],
      "text/plain": [
       "   sex  married  income  digital1  digital2  digital3  default  \\\n",
       "0    1        0       0  0.749267  0.422656  0.738735        0   \n",
       "1    1        1   26108  0.697428  0.596361  0.733947        0   \n",
       "2    1        1   11810  0.000000  0.652496  0.000000        0   \n",
       "3    1        1       0  0.000000  0.000000  0.000000        0   \n",
       "4    0        1    6310  0.000000  0.041123  0.203202        0   \n",
       "\n",
       "   employment_employed  employment_retired  employment_student  \\\n",
       "0                  0.0                 0.0                 0.0   \n",
       "1                  1.0                 0.0                 0.0   \n",
       "2                  1.0                 0.0                 0.0   \n",
       "3                  0.0                 0.0                 0.0   \n",
       "4                  0.0                 1.0                 0.0   \n",
       "\n",
       "   employment_unemployed  \n",
       "0                    1.0  \n",
       "1                    0.0  \n",
       "2                    0.0  \n",
       "3                    1.0  \n",
       "4                    0.0  "
      ]
     },
     "execution_count": 111,
     "metadata": {},
     "output_type": "execute_result"
    }
   ],
   "source": [
    "# Step 1: Map 'sex' column\n",
    "past_loans['sex'] = past_loans['sex'].map({'M': 1, 'F': 0})\n",
    "\n",
    "# Step 2: One-hot encode the 'employment' column\n",
    "encoder = OneHotEncoder(sparse_output=False)  # sparse_output=False returns a dense array\n",
    "employment_encoded = encoder.fit_transform(past_loans[['employment']])\n",
    "\n",
    "# Step 3: Create a DataFrame for the encoded 'employment' columns\n",
    "employment_encoded_df = pd.DataFrame(employment_encoded, columns=encoder.get_feature_names_out(['employment']))\n",
    "\n",
    "# Step 4: Concatenate the original DataFrame with the new one-hot encoded 'employment' columns\n",
    "past_loans_encoded = pd.concat([past_loans.drop('employment', axis=1), employment_encoded_df], axis=1)\n",
    "\n",
    "# Display the updated DataFrame\n",
    "past_loans_encoded.head()"
   ]
  },
  {
   "cell_type": "code",
   "execution_count": 68,
   "metadata": {},
   "outputs": [
    {
     "name": "stderr",
     "output_type": "stream",
     "text": [
      "/Users/tesscoullon/.pyenv/versions/3.10.6/envs/lending_game_env/lib/python3.10/site-packages/xgboost/core.py:158: UserWarning: [17:45:47] WARNING: /Users/runner/work/xgboost/xgboost/src/learner.cc:740: \n",
      "Parameters: { \"use_label_encoder\" } are not used.\n",
      "\n",
      "  warnings.warn(smsg, UserWarning)\n"
     ]
    },
    {
     "name": "stdout",
     "output_type": "stream",
     "text": [
      "Accuracy: 0.9020\n",
      "Classification Report:\n",
      "              precision    recall  f1-score   support\n",
      "\n",
      "           0       0.90      1.00      0.95     18049\n",
      "           1       0.45      0.02      0.04      1951\n",
      "\n",
      "    accuracy                           0.90     20000\n",
      "   macro avg       0.68      0.51      0.50     20000\n",
      "weighted avg       0.86      0.90      0.86     20000\n",
      "\n"
     ]
    }
   ],
   "source": [
    "# Import necessary libraries\n",
    "\n",
    "\n",
    "# Prepare the data\n",
    "X = past_loans_encoded.drop('default', axis=1)  # Features (drop the target column)\n",
    "y = past_loans_encoded['default']  # Target (default column)\n",
    "\n",
    "# Split the data into training and testing sets\n",
    "X_train, X_test, y_train, y_test = train_test_split(X, y, test_size=0.2, random_state=42)\n",
    "\n",
    "# Initialize XGBoost classifier\n",
    "xgb_model = xgb.XGBClassifier(use_label_encoder=False, eval_metric='logloss')\n",
    "\n",
    "# Train the model\n",
    "xgb_model.fit(X_train, y_train)\n",
    "\n",
    "# Make predictions on the test set\n",
    "y_pred = xgb_model.predict(X_test)\n",
    "\n",
    "# Evaluate the model\n",
    "accuracy = accuracy_score(y_test, y_pred)\n",
    "class_report = classification_report(y_test, y_pred)\n",
    "\n",
    "# Output results\n",
    "print(f\"Accuracy: {accuracy:.4f}\")\n",
    "\n",
    "print(\"Classification Report:\")\n",
    "print(class_report)\n"
   ]
  },
  {
   "cell_type": "code",
   "execution_count": 67,
   "metadata": {},
   "outputs": [
    {
     "data": {
      "image/png": "[encoded data removed]",
      "text/plain": [
       "<Figure size 800x600 with 1 Axes>"
      ]
     },
     "metadata": {},
     "output_type": "display_data"
    }
   ],
   "source": [
    "# Generate confusion matrix\n",
    "cm = confusion_matrix(y_test, y_pred)\n",
    "\n",
    "# Create a DataFrame for better visualization\n",
    "cm_df = pd.DataFrame(cm, index=['Not Default', 'Default'], columns=['Not Default', 'Default'])\n",
    "\n",
    "# Plotting the confusion matrix\n",
    "plt.figure(figsize=(8, 6))\n",
    "sns.heatmap(cm_df, annot=True, fmt='d', cmap='Blues', cbar=False)\n",
    "plt.title('Confusion Matrix')\n",
    "plt.xlabel('Predicted')\n",
    "plt.ylabel('True')\n",
    "plt.show()"
   ]
  },
  {
   "cell_type": "code",
   "execution_count": 112,
   "metadata": {},
   "outputs": [
    {
     "data": {
      "text/plain": [
       "Index(['sex', 'married', 'income', 'digital1', 'digital2', 'digital3',\n",
       "       'default', 'employment_employed', 'employment_retired',\n",
       "       'employment_student', 'employment_unemployed'],\n",
       "      dtype='object')"
      ]
     },
     "execution_count": 112,
     "metadata": {},
     "output_type": "execute_result"
    }
   ],
   "source": [
    "past_loans_encoded.columns"
   ]
  },
  {
   "cell_type": "code",
   "execution_count": 113,
   "metadata": {},
   "outputs": [],
   "source": [
    "# Create interaction features\n",
    "past_loans_encoded['married_employed'] = past_loans_encoded['married'] * past_loans_encoded['employment_employed']\n",
    "past_loans_encoded['married_retired'] = past_loans_encoded['married'] * past_loans_encoded['employment_retired']\n",
    "past_loans_encoded['married_student'] = past_loans_encoded['married'] * past_loans_encoded['employment_student']\n",
    "past_loans_encoded['married_unemployed'] = past_loans_encoded['married'] * past_loans_encoded['employment_unemployed']\n"
   ]
  },
  {
   "cell_type": "code",
   "execution_count": 114,
   "metadata": {},
   "outputs": [],
   "source": [
    "scaler = StandardScaler()\n",
    "past_loans_encoded['income_standardized'] = scaler.fit_transform(past_loans_encoded[['income']])"
   ]
  },
  {
   "cell_type": "code",
   "execution_count": 122,
   "metadata": {},
   "outputs": [],
   "source": [
    "features = [\n",
    "    'sex', 'digital1', 'digital2', 'digital3',\n",
    "    'employment_employed', 'employment_retired',\n",
    "    'employment_student', 'employment_unemployed',\n",
    "    'married_employed', 'married_retired', 'married_unemployed',\n",
    "    'income_standardized'  # Keeping the standardized income\n",
    "]\n",
    "\n",
    "#features = [\n",
    " #   'sex', 'married', 'digital1', 'digital2', 'digital3',\n",
    "  #  'employment_employed', 'employment_retired',\n",
    "   # 'employment_student', 'employment_unemployed',\n",
    "    #'married_employed', 'married_retired',\n",
    "    #'married_student', 'married_unemployed',\n",
    "    #'income_standardized'  # Keeping the standardized income\n",
    "#]\n",
    "\n",
    "X = past_loans_encoded[features]\n",
    "y = past_loans_encoded['default']"
   ]
  },
  {
   "cell_type": "code",
   "execution_count": 116,
   "metadata": {},
   "outputs": [
    {
     "name": "stderr",
     "output_type": "stream",
     "text": [
      "/Users/tesscoullon/.pyenv/versions/3.10.6/envs/lending_game_env/lib/python3.10/site-packages/xgboost/core.py:158: UserWarning: [12:20:19] WARNING: /Users/runner/work/xgboost/xgboost/src/learner.cc:740: \n",
      "Parameters: { \"use_label_encoder\" } are not used.\n",
      "\n",
      "  warnings.warn(smsg, UserWarning)\n"
     ]
    },
    {
     "name": "stdout",
     "output_type": "stream",
     "text": [
      "Accuracy: 0.902\n",
      "Confusion Matrix:\n",
      " [[17987    62]\n",
      " [ 1898    53]]\n"
     ]
    }
   ],
   "source": [
    "# Split the data\n",
    "X_train, X_test, y_train, y_test = train_test_split(X, y, test_size=0.2, random_state=42)\n",
    "\n",
    "# Initialize XGBoost classifier\n",
    "xgb_model = xgb.XGBClassifier(use_label_encoder=False, eval_metric='logloss')\n",
    "\n",
    "# Train the model\n",
    "xgb_model.fit(X_train, y_train)\n",
    "\n",
    "# Make predictions on the test set\n",
    "y_pred = xgb_model.predict(X_test)\n",
    "\n",
    "# Evaluate the model\n",
    "accuracy = accuracy_score(y_test, y_pred)\n",
    "conf_matrix = confusion_matrix(y_test, y_pred)\n",
    "class_report = classification_report(y_test, y_pred)\n",
    "\n",
    "print(f\"Accuracy: {accuracy}\")\n",
    "print(\"Confusion Matrix:\\n\", conf_matrix)"
   ]
  },
  {
   "cell_type": "code",
   "execution_count": 123,
   "metadata": {},
   "outputs": [
    {
     "name": "stderr",
     "output_type": "stream",
     "text": [
      "/Users/tesscoullon/.pyenv/versions/3.10.6/envs/lending_game_env/lib/python3.10/site-packages/xgboost/core.py:158: UserWarning: [12:22:31] WARNING: /Users/runner/work/xgboost/xgboost/src/learner.cc:740: \n",
      "Parameters: { \"use_label_encoder\" } are not used.\n",
      "\n",
      "  warnings.warn(smsg, UserWarning)\n"
     ]
    },
    {
     "name": "stdout",
     "output_type": "stream",
     "text": [
      "Confusion Matrix:\n",
      " [[15816  2195]\n",
      " [ 1246   743]]\n",
      "\n",
      "Classification Report:\n",
      "               precision    recall  f1-score   support\n",
      "\n",
      "           0       0.93      0.88      0.90     18011\n",
      "           1       0.25      0.37      0.30      1989\n",
      "\n",
      "    accuracy                           0.83     20000\n",
      "   macro avg       0.59      0.63      0.60     20000\n",
      "weighted avg       0.86      0.83      0.84     20000\n",
      "\n",
      "\n",
      "Model Accuracy: 0.8279\n"
     ]
    }
   ],
   "source": [
    "#X = past_loans_encoded.drop('default', axis=1)  # Features\n",
    "#y = past_loans_encoded['default']                 # Target variable\n",
    "\n",
    "# Split the dataset into training and testing sets\n",
    "X_train, X_test, y_train, y_test = train_test_split(X, y, test_size=0.2, random_state=42, stratify=y)\n",
    "\n",
    "# Apply SMOTE to the training data\n",
    "smote = SMOTE(sampling_strategy=0.5, k_neighbors=3, random_state=42)\n",
    "X_train_resampled, y_train_resampled = smote.fit_resample(X_train, y_train)\n",
    "\n",
    "# Initialize XGBoost classifier\n",
    "xgb_model = xgb.XGBClassifier(use_label_encoder=False, eval_metric='logloss')\n",
    "\n",
    "# Train the model on the resampled data\n",
    "xgb_model.fit(X_train_resampled, y_train_resampled)\n",
    "\n",
    "# Make predictions on the test set\n",
    "y_pred = xgb_model.predict(X_test)\n",
    "\n",
    "# Evaluate the model\n",
    "confusion = confusion_matrix(y_test, y_pred)\n",
    "report = classification_report(y_test, y_pred)\n",
    "\n",
    "# Calculate the model accuracy\n",
    "accuracy = accuracy_score(y_test, y_pred)\n",
    "\n",
    "# Print results\n",
    "print(\"Confusion Matrix:\\n\", confusion)\n",
    "print(\"\\nClassification Report:\\n\", report)\n",
    "print(f\"\\nModel Accuracy: {accuracy:.4f}\")  # Print the accuracy"
   ]
  },
  {
   "cell_type": "code",
   "execution_count": 124,
   "metadata": {},
   "outputs": [
    {
     "data": {
      "image/png": "[encoded data removed]",
      "text/plain": [
       "<Figure size 640x480 with 1 Axes>"
      ]
     },
     "metadata": {},
     "output_type": "display_data"
    }
   ],
   "source": [
    "xgb_model.feature_importances_  # Get feature importances\n",
    "plt.barh(X.columns, xgb_model.feature_importances_)\n",
    "plt.xlabel(\"Feature Importance\")\n",
    "plt.ylabel(\"Feature\")\n",
    "plt.title(\"Feature Importances\")\n",
    "plt.show()"
   ]
  },
  {
   "cell_type": "code",
   "execution_count": 125,
   "metadata": {},
   "outputs": [
    {
     "data": {
      "text/html": [
       "<div>\n",
       "<style scoped>\n",
       "    .dataframe tbody tr th:only-of-type {\n",
       "        vertical-align: middle;\n",
       "    }\n",
       "\n",
       "    .dataframe tbody tr th {\n",
       "        vertical-align: top;\n",
       "    }\n",
       "\n",
       "    .dataframe thead th {\n",
       "        text-align: right;\n",
       "    }\n",
       "</style>\n",
       "<table border=\"1\" class=\"dataframe\">\n",
       "  <thead>\n",
       "    <tr style=\"text-align: right;\">\n",
       "      <th></th>\n",
       "      <th>id</th>\n",
       "      <th>sex</th>\n",
       "      <th>employment</th>\n",
       "      <th>married</th>\n",
       "      <th>income</th>\n",
       "      <th>digital2</th>\n",
       "    </tr>\n",
       "  </thead>\n",
       "  <tbody>\n",
       "    <tr>\n",
       "      <th>0</th>\n",
       "      <td>1</td>\n",
       "      <td>M</td>\n",
       "      <td>employed</td>\n",
       "      <td>0</td>\n",
       "      <td>29758</td>\n",
       "      <td>0.000000</td>\n",
       "    </tr>\n",
       "    <tr>\n",
       "      <th>1</th>\n",
       "      <td>2</td>\n",
       "      <td>F</td>\n",
       "      <td>retired</td>\n",
       "      <td>1</td>\n",
       "      <td>6140</td>\n",
       "      <td>0.000000</td>\n",
       "    </tr>\n",
       "    <tr>\n",
       "      <th>2</th>\n",
       "      <td>3</td>\n",
       "      <td>F</td>\n",
       "      <td>employed</td>\n",
       "      <td>1</td>\n",
       "      <td>27186</td>\n",
       "      <td>0.008139</td>\n",
       "    </tr>\n",
       "    <tr>\n",
       "      <th>3</th>\n",
       "      <td>4</td>\n",
       "      <td>M</td>\n",
       "      <td>employed</td>\n",
       "      <td>1</td>\n",
       "      <td>8429</td>\n",
       "      <td>0.624570</td>\n",
       "    </tr>\n",
       "    <tr>\n",
       "      <th>4</th>\n",
       "      <td>5</td>\n",
       "      <td>M</td>\n",
       "      <td>retired</td>\n",
       "      <td>1</td>\n",
       "      <td>2820</td>\n",
       "      <td>0.097230</td>\n",
       "    </tr>\n",
       "  </tbody>\n",
       "</table>\n",
       "</div>"
      ],
      "text/plain": [
       "   id sex employment  married  income  digital2\n",
       "0   1   M   employed        0   29758  0.000000\n",
       "1   2   F    retired        1    6140  0.000000\n",
       "2   3   F   employed        1   27186  0.008139\n",
       "3   4   M   employed        1    8429  0.624570\n",
       "4   5   M    retired        1    2820  0.097230"
      ]
     },
     "execution_count": 125,
     "metadata": {},
     "output_type": "execute_result"
    }
   ],
   "source": [
    "new_applicants.head()"
   ]
  },
  {
   "cell_type": "code",
   "execution_count": 135,
   "metadata": {},
   "outputs": [
    {
     "data": {
      "text/plain": [
       "pandas.core.series.Series"
      ]
     },
     "execution_count": 135,
     "metadata": {},
     "output_type": "execute_result"
    }
   ],
   "source": [
    "type(new_applicants_prepared['employment'])\n"
   ]
  },
  {
   "cell_type": "code",
   "execution_count": 138,
   "metadata": {},
   "outputs": [
    {
     "name": "stderr",
     "output_type": "stream",
     "text": [
      "/Users/tesscoullon/.pyenv/versions/3.10.6/envs/lending_game_env/lib/python3.10/site-packages/xgboost/core.py:158: UserWarning: [15:28:16] WARNING: /Users/runner/work/xgboost/xgboost/src/learner.cc:740: \n",
      "Parameters: { \"use_label_encoder\" } are not used.\n",
      "\n",
      "  warnings.warn(smsg, UserWarning)\n"
     ]
    },
    {
     "ename": "ValueError",
     "evalue": "DataFrame.dtypes for data must be int, float, bool or category. When categorical type is supplied, the experimental DMatrix parameter`enable_categorical` must be set to `True`.  Invalid columns:employment: object",
     "output_type": "error",
     "traceback": [
      "\u001b[0;31m---------------------------------------------------------------------------\u001b[0m",
      "\u001b[0;31mValueError\u001b[0m                                Traceback (most recent call last)",
      "Cell \u001b[0;32mIn[138], line 69\u001b[0m\n\u001b[1;32m     65\u001b[0m employment_app_encoded_df \u001b[38;5;241m=\u001b[39m pd\u001b[38;5;241m.\u001b[39mDataFrame(employment_app_encoded, columns\u001b[38;5;241m=\u001b[39mencoder\u001b[38;5;241m.\u001b[39mget_feature_names_out([\u001b[38;5;124m'\u001b[39m\u001b[38;5;124memployment\u001b[39m\u001b[38;5;124m'\u001b[39m]))\n\u001b[1;32m     68\u001b[0m \u001b[38;5;66;03m# Predict the probability of default for new applicants\u001b[39;00m\n\u001b[0;32m---> 69\u001b[0m default_probabilities \u001b[38;5;241m=\u001b[39m \u001b[43mxgb_model\u001b[49m\u001b[38;5;241;43m.\u001b[39;49m\u001b[43mpredict_proba\u001b[49m\u001b[43m(\u001b[49m\u001b[43mnew_applicants_prepared\u001b[49m\u001b[43m)\u001b[49m[:, \u001b[38;5;241m1\u001b[39m]  \u001b[38;5;66;03m# Probability of default (class 1)\u001b[39;00m\n\u001b[1;32m     71\u001b[0m employment_app_encoded_df[\u001b[38;5;124m'\u001b[39m\u001b[38;5;124mmarried_employed\u001b[39m\u001b[38;5;124m'\u001b[39m] \u001b[38;5;241m=\u001b[39m employment_app_encoded_df[\u001b[38;5;124m'\u001b[39m\u001b[38;5;124mmarried\u001b[39m\u001b[38;5;124m'\u001b[39m] \u001b[38;5;241m*\u001b[39m employment_app_encoded_df[\u001b[38;5;124m'\u001b[39m\u001b[38;5;124memployment_employed\u001b[39m\u001b[38;5;124m'\u001b[39m]\n\u001b[1;32m     72\u001b[0m employment_app_encoded_df[\u001b[38;5;124m'\u001b[39m\u001b[38;5;124mmarried_retired\u001b[39m\u001b[38;5;124m'\u001b[39m] \u001b[38;5;241m=\u001b[39m employment_app_encoded_df[\u001b[38;5;124m'\u001b[39m\u001b[38;5;124mmarried\u001b[39m\u001b[38;5;124m'\u001b[39m] \u001b[38;5;241m*\u001b[39m employment_app_encoded_df[\u001b[38;5;124m'\u001b[39m\u001b[38;5;124memployment_retired\u001b[39m\u001b[38;5;124m'\u001b[39m]\n",
      "File \u001b[0;32m~/.pyenv/versions/3.10.6/envs/lending_game_env/lib/python3.10/site-packages/xgboost/sklearn.py:1644\u001b[0m, in \u001b[0;36mXGBClassifier.predict_proba\u001b[0;34m(self, X, validate_features, base_margin, iteration_range)\u001b[0m\n\u001b[1;32m   1642\u001b[0m     class_prob \u001b[38;5;241m=\u001b[39m softmax(raw_predt, axis\u001b[38;5;241m=\u001b[39m\u001b[38;5;241m1\u001b[39m)\n\u001b[1;32m   1643\u001b[0m     \u001b[38;5;28;01mreturn\u001b[39;00m class_prob\n\u001b[0;32m-> 1644\u001b[0m class_probs \u001b[38;5;241m=\u001b[39m \u001b[38;5;28;43msuper\u001b[39;49m\u001b[43m(\u001b[49m\u001b[43m)\u001b[49m\u001b[38;5;241;43m.\u001b[39;49m\u001b[43mpredict\u001b[49m\u001b[43m(\u001b[49m\n\u001b[1;32m   1645\u001b[0m \u001b[43m    \u001b[49m\u001b[43mX\u001b[49m\u001b[38;5;241;43m=\u001b[39;49m\u001b[43mX\u001b[49m\u001b[43m,\u001b[49m\n\u001b[1;32m   1646\u001b[0m \u001b[43m    \u001b[49m\u001b[43mvalidate_features\u001b[49m\u001b[38;5;241;43m=\u001b[39;49m\u001b[43mvalidate_features\u001b[49m\u001b[43m,\u001b[49m\n\u001b[1;32m   1647\u001b[0m \u001b[43m    \u001b[49m\u001b[43mbase_margin\u001b[49m\u001b[38;5;241;43m=\u001b[39;49m\u001b[43mbase_margin\u001b[49m\u001b[43m,\u001b[49m\n\u001b[1;32m   1648\u001b[0m \u001b[43m    \u001b[49m\u001b[43miteration_range\u001b[49m\u001b[38;5;241;43m=\u001b[39;49m\u001b[43miteration_range\u001b[49m\u001b[43m,\u001b[49m\n\u001b[1;32m   1649\u001b[0m \u001b[43m\u001b[49m\u001b[43m)\u001b[49m\n\u001b[1;32m   1650\u001b[0m \u001b[38;5;28;01mreturn\u001b[39;00m _cls_predict_proba(\u001b[38;5;28mself\u001b[39m\u001b[38;5;241m.\u001b[39mn_classes_, class_probs, np\u001b[38;5;241m.\u001b[39mvstack)\n",
      "File \u001b[0;32m~/.pyenv/versions/3.10.6/envs/lending_game_env/lib/python3.10/site-packages/xgboost/sklearn.py:1186\u001b[0m, in \u001b[0;36mXGBModel.predict\u001b[0;34m(self, X, output_margin, validate_features, base_margin, iteration_range)\u001b[0m\n\u001b[1;32m   1184\u001b[0m \u001b[38;5;28;01mif\u001b[39;00m \u001b[38;5;28mself\u001b[39m\u001b[38;5;241m.\u001b[39m_can_use_inplace_predict():\n\u001b[1;32m   1185\u001b[0m     \u001b[38;5;28;01mtry\u001b[39;00m:\n\u001b[0;32m-> 1186\u001b[0m         predts \u001b[38;5;241m=\u001b[39m \u001b[38;5;28;43mself\u001b[39;49m\u001b[38;5;241;43m.\u001b[39;49m\u001b[43mget_booster\u001b[49m\u001b[43m(\u001b[49m\u001b[43m)\u001b[49m\u001b[38;5;241;43m.\u001b[39;49m\u001b[43minplace_predict\u001b[49m\u001b[43m(\u001b[49m\n\u001b[1;32m   1187\u001b[0m \u001b[43m            \u001b[49m\u001b[43mdata\u001b[49m\u001b[38;5;241;43m=\u001b[39;49m\u001b[43mX\u001b[49m\u001b[43m,\u001b[49m\n\u001b[1;32m   1188\u001b[0m \u001b[43m            \u001b[49m\u001b[43miteration_range\u001b[49m\u001b[38;5;241;43m=\u001b[39;49m\u001b[43miteration_range\u001b[49m\u001b[43m,\u001b[49m\n\u001b[1;32m   1189\u001b[0m \u001b[43m            \u001b[49m\u001b[43mpredict_type\u001b[49m\u001b[38;5;241;43m=\u001b[39;49m\u001b[38;5;124;43m\"\u001b[39;49m\u001b[38;5;124;43mmargin\u001b[39;49m\u001b[38;5;124;43m\"\u001b[39;49m\u001b[43m \u001b[49m\u001b[38;5;28;43;01mif\u001b[39;49;00m\u001b[43m \u001b[49m\u001b[43moutput_margin\u001b[49m\u001b[43m \u001b[49m\u001b[38;5;28;43;01melse\u001b[39;49;00m\u001b[43m \u001b[49m\u001b[38;5;124;43m\"\u001b[39;49m\u001b[38;5;124;43mvalue\u001b[39;49m\u001b[38;5;124;43m\"\u001b[39;49m\u001b[43m,\u001b[49m\n\u001b[1;32m   1190\u001b[0m \u001b[43m            \u001b[49m\u001b[43mmissing\u001b[49m\u001b[38;5;241;43m=\u001b[39;49m\u001b[38;5;28;43mself\u001b[39;49m\u001b[38;5;241;43m.\u001b[39;49m\u001b[43mmissing\u001b[49m\u001b[43m,\u001b[49m\n\u001b[1;32m   1191\u001b[0m \u001b[43m            \u001b[49m\u001b[43mbase_margin\u001b[49m\u001b[38;5;241;43m=\u001b[39;49m\u001b[43mbase_margin\u001b[49m\u001b[43m,\u001b[49m\n\u001b[1;32m   1192\u001b[0m \u001b[43m            \u001b[49m\u001b[43mvalidate_features\u001b[49m\u001b[38;5;241;43m=\u001b[39;49m\u001b[43mvalidate_features\u001b[49m\u001b[43m,\u001b[49m\n\u001b[1;32m   1193\u001b[0m \u001b[43m        \u001b[49m\u001b[43m)\u001b[49m\n\u001b[1;32m   1194\u001b[0m         \u001b[38;5;28;01mif\u001b[39;00m _is_cupy_alike(predts):\n\u001b[1;32m   1195\u001b[0m             \u001b[38;5;28;01mimport\u001b[39;00m \u001b[38;5;21;01mcupy\u001b[39;00m  \u001b[38;5;66;03m# pylint: disable=import-error\u001b[39;00m\n",
      "File \u001b[0;32m~/.pyenv/versions/3.10.6/envs/lending_game_env/lib/python3.10/site-packages/xgboost/core.py:2508\u001b[0m, in \u001b[0;36mBooster.inplace_predict\u001b[0;34m(self, data, iteration_range, predict_type, missing, validate_features, base_margin, strict_shape)\u001b[0m\n\u001b[1;32m   2506\u001b[0m     data \u001b[38;5;241m=\u001b[39m pd\u001b[38;5;241m.\u001b[39mDataFrame(data)\n\u001b[1;32m   2507\u001b[0m \u001b[38;5;28;01mif\u001b[39;00m _is_pandas_df(data):\n\u001b[0;32m-> 2508\u001b[0m     data, fns, _ \u001b[38;5;241m=\u001b[39m \u001b[43m_transform_pandas_df\u001b[49m\u001b[43m(\u001b[49m\u001b[43mdata\u001b[49m\u001b[43m,\u001b[49m\u001b[43m \u001b[49m\u001b[43menable_categorical\u001b[49m\u001b[43m)\u001b[49m\n\u001b[1;32m   2509\u001b[0m     \u001b[38;5;28;01mif\u001b[39;00m validate_features:\n\u001b[1;32m   2510\u001b[0m         \u001b[38;5;28mself\u001b[39m\u001b[38;5;241m.\u001b[39m_validate_features(fns)\n",
      "File \u001b[0;32m~/.pyenv/versions/3.10.6/envs/lending_game_env/lib/python3.10/site-packages/xgboost/data.py:603\u001b[0m, in \u001b[0;36m_transform_pandas_df\u001b[0;34m(data, enable_categorical, feature_names, feature_types, meta)\u001b[0m\n\u001b[1;32m    596\u001b[0m \u001b[38;5;28;01mdef\u001b[39;00m \u001b[38;5;21m_transform_pandas_df\u001b[39m(\n\u001b[1;32m    597\u001b[0m     data: DataFrame,\n\u001b[1;32m    598\u001b[0m     enable_categorical: \u001b[38;5;28mbool\u001b[39m,\n\u001b[0;32m   (...)\u001b[0m\n\u001b[1;32m    601\u001b[0m     meta: Optional[\u001b[38;5;28mstr\u001b[39m] \u001b[38;5;241m=\u001b[39m \u001b[38;5;28;01mNone\u001b[39;00m,\n\u001b[1;32m    602\u001b[0m ) \u001b[38;5;241m-\u001b[39m\u001b[38;5;241m>\u001b[39m Tuple[PandasTransformed, Optional[FeatureNames], Optional[FeatureTypes]]:\n\u001b[0;32m--> 603\u001b[0m     \u001b[43mpandas_check_dtypes\u001b[49m\u001b[43m(\u001b[49m\u001b[43mdata\u001b[49m\u001b[43m,\u001b[49m\u001b[43m \u001b[49m\u001b[43menable_categorical\u001b[49m\u001b[43m)\u001b[49m\n\u001b[1;32m    604\u001b[0m     \u001b[38;5;28;01mif\u001b[39;00m meta \u001b[38;5;129;01mand\u001b[39;00m \u001b[38;5;28mlen\u001b[39m(data\u001b[38;5;241m.\u001b[39mcolumns) \u001b[38;5;241m>\u001b[39m \u001b[38;5;241m1\u001b[39m \u001b[38;5;129;01mand\u001b[39;00m meta \u001b[38;5;129;01mnot\u001b[39;00m \u001b[38;5;129;01min\u001b[39;00m _matrix_meta:\n\u001b[1;32m    605\u001b[0m         \u001b[38;5;28;01mraise\u001b[39;00m \u001b[38;5;167;01mValueError\u001b[39;00m(\u001b[38;5;124mf\u001b[39m\u001b[38;5;124m\"\u001b[39m\u001b[38;5;124mDataFrame for \u001b[39m\u001b[38;5;132;01m{\u001b[39;00mmeta\u001b[38;5;132;01m}\u001b[39;00m\u001b[38;5;124m cannot have multiple columns\u001b[39m\u001b[38;5;124m\"\u001b[39m)\n",
      "File \u001b[0;32m~/.pyenv/versions/3.10.6/envs/lending_game_env/lib/python3.10/site-packages/xgboost/data.py:569\u001b[0m, in \u001b[0;36mpandas_check_dtypes\u001b[0;34m(data, enable_categorical)\u001b[0m\n\u001b[1;32m    562\u001b[0m \u001b[38;5;28;01mfor\u001b[39;00m dtype \u001b[38;5;129;01min\u001b[39;00m data\u001b[38;5;241m.\u001b[39mdtypes:\n\u001b[1;32m    563\u001b[0m     \u001b[38;5;28;01mif\u001b[39;00m \u001b[38;5;129;01mnot\u001b[39;00m (\n\u001b[1;32m    564\u001b[0m         (dtype\u001b[38;5;241m.\u001b[39mname \u001b[38;5;129;01min\u001b[39;00m _pandas_dtype_mapper)\n\u001b[1;32m    565\u001b[0m         \u001b[38;5;129;01mor\u001b[39;00m is_pd_sparse_dtype(dtype)\n\u001b[1;32m    566\u001b[0m         \u001b[38;5;129;01mor\u001b[39;00m (is_pd_cat_dtype(dtype) \u001b[38;5;129;01mand\u001b[39;00m enable_categorical)\n\u001b[1;32m    567\u001b[0m         \u001b[38;5;129;01mor\u001b[39;00m is_pa_ext_dtype(dtype)\n\u001b[1;32m    568\u001b[0m     ):\n\u001b[0;32m--> 569\u001b[0m         \u001b[43m_invalid_dataframe_dtype\u001b[49m\u001b[43m(\u001b[49m\u001b[43mdata\u001b[49m\u001b[43m)\u001b[49m\n\u001b[1;32m    571\u001b[0m     \u001b[38;5;28;01mif\u001b[39;00m is_pd_sparse_dtype(dtype):\n\u001b[1;32m    572\u001b[0m         sparse_extension \u001b[38;5;241m=\u001b[39m \u001b[38;5;28;01mTrue\u001b[39;00m\n",
      "File \u001b[0;32m~/.pyenv/versions/3.10.6/envs/lending_game_env/lib/python3.10/site-packages/xgboost/data.py:356\u001b[0m, in \u001b[0;36m_invalid_dataframe_dtype\u001b[0;34m(data)\u001b[0m\n\u001b[1;32m    354\u001b[0m type_err \u001b[38;5;241m=\u001b[39m \u001b[38;5;124m\"\u001b[39m\u001b[38;5;124mDataFrame.dtypes for data must be int, float, bool or category.\u001b[39m\u001b[38;5;124m\"\u001b[39m\n\u001b[1;32m    355\u001b[0m msg \u001b[38;5;241m=\u001b[39m \u001b[38;5;124mf\u001b[39m\u001b[38;5;124m\"\"\"\u001b[39m\u001b[38;5;132;01m{\u001b[39;00mtype_err\u001b[38;5;132;01m}\u001b[39;00m\u001b[38;5;124m \u001b[39m\u001b[38;5;132;01m{\u001b[39;00m_ENABLE_CAT_ERR\u001b[38;5;132;01m}\u001b[39;00m\u001b[38;5;124m \u001b[39m\u001b[38;5;132;01m{\u001b[39;00merr\u001b[38;5;132;01m}\u001b[39;00m\u001b[38;5;124m\"\"\"\u001b[39m\n\u001b[0;32m--> 356\u001b[0m \u001b[38;5;28;01mraise\u001b[39;00m \u001b[38;5;167;01mValueError\u001b[39;00m(msg)\n",
      "\u001b[0;31mValueError\u001b[0m: DataFrame.dtypes for data must be int, float, bool or category. When categorical type is supplied, the experimental DMatrix parameter`enable_categorical` must be set to `True`.  Invalid columns:employment: object"
     ]
    }
   ],
   "source": [
    "past_loans = pd.read_csv('PastLoans.csv')\n",
    "\n",
    "# Step 1: Map 'sex' column\n",
    "past_loans['sex'] = past_loans['sex'].map({'M': 1, 'F': 0})\n",
    "\n",
    "# Step 2: One-hot encode the 'employment' column\n",
    "encoder = OneHotEncoder(sparse_output=False)  # sparse_output=False returns a dense array\n",
    "employment_encoded = encoder.fit_transform(past_loans[['employment']])\n",
    "\n",
    "# Step 3: Create a DataFrame for the encoded 'employment' columns\n",
    "employment_encoded_df = pd.DataFrame(employment_encoded, columns=encoder.get_feature_names_out(['employment']))\n",
    "\n",
    "# Step 4: Concatenate the original DataFrame with the new one-hot encoded 'employment' columns\n",
    "past_loans_encoded = pd.concat([past_loans.drop('employment', axis=1), employment_encoded_df], axis=1)\n",
    "\n",
    "# Create interaction features\n",
    "past_loans_encoded['married_employed'] = past_loans_encoded['married'] * past_loans_encoded['employment_employed']\n",
    "past_loans_encoded['married_retired'] = past_loans_encoded['married'] * past_loans_encoded['employment_retired']\n",
    "past_loans_encoded['married_student'] = past_loans_encoded['married'] * past_loans_encoded['employment_student']\n",
    "past_loans_encoded['married_unemployed'] = past_loans_encoded['married'] * past_loans_encoded['employment_unemployed']\n",
    "\n",
    "np.random.seed(42)  # For reproducibility\n",
    "missing_fraction = 0.2  # 20% of the values will be set to NaN\n",
    "\n",
    "# Randomly set 20% of digital1 and digital3 to NaN\n",
    "past_loans_encoded.loc[past_loans_encoded.sample(frac=missing_fraction).index, 'digital1'] = np.nan\n",
    "past_loans_encoded.loc[past_loans_encoded.sample(frac=missing_fraction).index, 'digital3'] = np.nan\n",
    "\n",
    "\n",
    "\n",
    "features = [\n",
    "    'sex', 'digital1', 'digital2', 'digital3',\n",
    "    'employment_employed', 'employment_retired',\n",
    "    'employment_student', 'employment_unemployed',\n",
    "    'married_employed', 'married_retired', 'married_unemployed', 'income_standardized'  # Keeping the standardized income\n",
    "]  \n",
    "\n",
    "\n",
    "# Standardize 'income' if it's not already standardized\n",
    "scaler = StandardScaler()\n",
    "past_loans_encoded['income_standardized'] = scaler.fit_transform(past_loans_encoded[['income']])\n",
    "\n",
    "\n",
    "# Step 1: Prepare data\n",
    "X = past_loans_encoded[features]\n",
    "y = past_loans_encoded['default']\n",
    "\n",
    "\n",
    "# Train the model\n",
    "xgb_model = XGBClassifier(use_label_encoder=False, eval_metric='logloss')\n",
    "xgb_model.fit(X, y)\n",
    "\n",
    "# Step 2: Prepare new applicants data\n",
    "new_applicants_prepared = new_applicants.copy()\n",
    "\n",
    "# Standardize 'income' in new applicants\n",
    "new_applicants_prepared['income_standardized'] = scaler.transform(new_applicants[['income']])\n",
    "\n",
    "new_applicants_prepared['sex'] = new_applicants_prepared['sex'].map({'M': 1, 'F': 0})\n",
    "\n",
    "encoder = OneHotEncoder(sparse_output=False)  # sparse_output=False returns a dense array\n",
    "employment_app_encoded = encoder.fit_transform(new_applicants_prepared[['employment']])\n",
    "\n",
    "# Step 3: Create a DataFrame for the encoded 'employment' columns\n",
    "employment_app_encoded_df = pd.DataFrame(employment_app_encoded, columns=encoder.get_feature_names_out(['employment']))\n",
    "\n",
    "\n",
    "# Predict the probability of default for new applicants\n",
    "default_probabilities = xgb_model.predict_proba(new_applicants_prepared)[:, 1]  # Probability of default (class 1)\n",
    "\n",
    "employment_app_encoded_df['married_employed'] = employment_app_encoded_df['married'] * employment_app_encoded_df['employment_employed']\n",
    "employment_app_encoded_df['married_retired'] = employment_app_encoded_df['married'] * employment_app_encoded_df['employment_retired']\n",
    "employment_app_encoded_df['married_student'] = employment_app_encoded_df['married'] * employment_app_encoded_df['employment_student']\n",
    "employment_app_encoded_df['married_unemployed'] = employment_app_encoded_df['married'] * employment_app_encoded_df['employment_unemployed']\n",
    "\n",
    "employment_app_encoded_df['digital1'] = np.nan\n",
    "\n",
    "employment_app_encoded_df['digital3'] = np.nan\n",
    "\n",
    "# Step 3: Compute the break-even interest rate\n",
    "def break_even_interest_rate(prob_default):\n",
    "    return prob_default / (1 - prob_default)\n",
    "\n",
    "# Calculate break-even interest rates\n",
    "interest_rates = break_even_interest_rate(default_probabilities)\n",
    "\n",
    "# Step 4: Create the result DataFrame\n",
    "results = pd.DataFrame({\n",
    "    'applicant_id': new_applicants['id'],\n",
    "    'interest_rate': interest_rates\n",
    "})\n",
    "\n",
    "# Save results to CSV\n",
    "results.to_csv('new_applicants_interest_rates.csv', index=False)\n",
    "\n",
    "print(\"CSV file 'new_applicants_interest_rates.csv' created successfully.\")\n"
   ]
  },
  {
   "cell_type": "code",
   "execution_count": 159,
   "metadata": {},
   "outputs": [
    {
     "name": "stderr",
     "output_type": "stream",
     "text": [
      "/Users/tesscoullon/.pyenv/versions/3.10.6/envs/lending_game_env/lib/python3.10/site-packages/xgboost/core.py:158: UserWarning: [15:40:11] WARNING: /Users/runner/work/xgboost/xgboost/src/learner.cc:740: \n",
      "Parameters: { \"use_label_encoder\" } are not used.\n",
      "\n",
      "  warnings.warn(smsg, UserWarning)\n"
     ]
    },
    {
     "name": "stdout",
     "output_type": "stream",
     "text": [
      "CSV file 'new_applicants_interest_rates.csv' created successfully.\n"
     ]
    }
   ],
   "source": [
    "import pandas as pd\n",
    "from sklearn.preprocessing import OneHotEncoder, StandardScaler\n",
    "from xgboost import XGBClassifier\n",
    "\n",
    "# Step 1: Process past loans data\n",
    "past_loans = pd.read_csv('PastLoans.csv')\n",
    "past_loans['sex'] = past_loans['sex'].map({'M': 1, 'F': 0})\n",
    "\n",
    "# One-hot encode the 'employment' column\n",
    "encoder = OneHotEncoder(sparse_output=False)\n",
    "employment_encoded = encoder.fit_transform(past_loans[['employment']])\n",
    "employment_encoded_df = pd.DataFrame(employment_encoded, columns=encoder.get_feature_names_out(['employment']))\n",
    "\n",
    "# Concatenate the encoded 'employment' columns\n",
    "past_loans_encoded = pd.concat([past_loans.drop('employment', axis=1), employment_encoded_df], axis=1)\n",
    "\n",
    "# Create interaction features\n",
    "past_loans_encoded['married_employed'] = past_loans_encoded['married'] * past_loans_encoded['employment_employed']\n",
    "past_loans_encoded['married_retired'] = past_loans_encoded['married'] * past_loans_encoded['employment_retired']\n",
    "past_loans_encoded['married_student'] = past_loans_encoded['married'] * past_loans_encoded['employment_student']\n",
    "past_loans_encoded['married_unemployed'] = past_loans_encoded['married'] * past_loans_encoded['employment_unemployed']\n",
    "\n",
    "# Standardize 'income'\n",
    "scaler = StandardScaler()\n",
    "past_loans_encoded['income_standardized'] = scaler.fit_transform(past_loans_encoded[['income']])\n",
    "\n",
    "# Define features and target\n",
    "features = ['sex', 'digital1', 'digital2', 'digital3',\n",
    "            'employment_employed', 'employment_retired',\n",
    "            'employment_student', 'employment_unemployed',\n",
    "            'married_employed', 'married_retired', 'married_unemployed', \n",
    "            'income_standardized']\n",
    "X = past_loans_encoded[features]\n",
    "y = past_loans_encoded['default']\n",
    "\n",
    "# Train the XGBoost model\n",
    "xgb_model = XGBClassifier(use_label_encoder=False, eval_metric='logloss')\n",
    "xgb_model.fit(X, y)\n",
    "\n",
    "# Step 2: Process new applicants\n",
    "new_applicants_prepared = new_applicants.copy()\n",
    "\n",
    "# Standardize 'income'\n",
    "new_applicants_prepared['income_standardized'] = scaler.transform(new_applicants[['income']])\n",
    "\n",
    "# Map 'sex' column\n",
    "new_applicants_prepared['sex'] = new_applicants_prepared['sex'].map({'M': 1, 'F': 0})\n",
    "\n",
    "# One-hot encode the 'employment' column for new applicants\n",
    "employment_app_encoded = encoder.transform(new_applicants_prepared[['employment']])\n",
    "employment_app_encoded_df = pd.DataFrame(employment_app_encoded, columns=encoder.get_feature_names_out(['employment']))\n",
    "\n",
    "# Concatenate the encoded 'employment' columns\n",
    "new_applicants_prepared = pd.concat([new_applicants_prepared.drop('employment', axis=1), employment_app_encoded_df], axis=1)\n",
    "\n",
    "# Create interaction features for new applicants\n",
    "new_applicants_prepared['married_employed'] = new_applicants_prepared['married'] * new_applicants_prepared['employment_employed']\n",
    "new_applicants_prepared['married_retired'] = new_applicants_prepared['married'] * new_applicants_prepared['employment_retired']\n",
    "new_applicants_prepared['married_student'] = new_applicants_prepared['married'] * new_applicants_prepared['employment_student']\n",
    "new_applicants_prepared['married_unemployed'] = new_applicants_prepared['married'] * new_applicants_prepared['employment_unemployed']\n",
    "\n",
    "new_applicants_prepared['digital1'] = np.nan\n",
    "\n",
    "new_applicants_prepared['digital3'] = np.nan\n",
    "\n",
    "# Step 3: Predict the probability of default\n",
    "default_probabilities = xgb_model.predict_proba(new_applicants_prepared[features])[:, 1]  # Probability of default (class 1)\n",
    "\n",
    "# Step 3: Compute the break-even interest rate with a condition on PD\n",
    "def break_even_interest_rate(prob_default):\n",
    "    # If probability of default is greater than 0.5, reject the loan (interest rate = None)\n",
    "    return None if prob_default > 0.5 else prob_default / (1 - prob_default)\n",
    "\n",
    "# Calculate break-even interest rates\n",
    "interest_rates = [break_even_interest_rate(pd) for pd in default_probabilities]\n",
    "\n",
    "# Step 4: Create the result DataFrame\n",
    "results = pd.DataFrame({\n",
    "    'applicant_id': new_applicants['id'],\n",
    "    'interest_rate': interest_rates\n",
    "})\n",
    "\n",
    "# Save results to CSV\n",
    "results.to_csv('new_applicants_interest_rates.csv', index=False)\n",
    "\n",
    "print(\"CSV file 'new_applicants_interest_rates.csv' created successfully.\")"
   ]
  },
  {
   "cell_type": "code",
   "execution_count": 160,
   "metadata": {},
   "outputs": [],
   "source": [
    "submission = pd.read_csv('new_applicants_interest_rates.csv')"
   ]
  },
  {
   "cell_type": "code",
   "execution_count": 161,
   "metadata": {},
   "outputs": [
    {
     "data": {
      "text/plain": [
       "applicant_id       0\n",
       "interest_rate    209\n",
       "dtype: int64"
      ]
     },
     "execution_count": 161,
     "metadata": {},
     "output_type": "execute_result"
    }
   ],
   "source": [
    "submission.isna().sum()"
   ]
  },
  {
   "cell_type": "code",
   "execution_count": 162,
   "metadata": {},
   "outputs": [
    {
     "data": {
      "text/plain": [
       "default\n",
       "0    90053\n",
       "1     9947\n",
       "Name: count, dtype: int64"
      ]
     },
     "execution_count": 162,
     "metadata": {},
     "output_type": "execute_result"
    }
   ],
   "source": [
    "past_loans['default'].value_counts()"
   ]
  },
  {
   "cell_type": "code",
   "execution_count": null,
   "metadata": {},
   "outputs": [],
   "source": []
  }
 ],
 "metadata": {
  "kernelspec": {
   "display_name": "lending_game_env",
   "language": "python",
   "name": "python3"
  },
  "language_info": {
   "codemirror_mode": {
    "name": "ipython",
    "version": 3
   },
   "file_extension": ".py",
   "mimetype": "text/x-python",
   "name": "python",
   "nbconvert_exporter": "python",
   "pygments_lexer": "ipython3",
   "version": "3.10.6"
  }
 },
 "nbformat": 4,
 "nbformat_minor": 2
}
