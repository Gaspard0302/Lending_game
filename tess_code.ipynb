{
 "cells": [
  {
   "cell_type": "markdown",
   "metadata": {},
   "source": [
    "# Fintech name ideas:\n",
    "\n",
    "## 1. BrokeFund\n",
    "\n",
    "## 2. PayUpFront\n",
    "\n",
    "## 3. NoFunds Inc\n"
   ]
  },
  {
   "cell_type": "code",
   "execution_count": 81,
   "metadata": {},
   "outputs": [],
   "source": [
    "import pandas as pd\n",
    "import numpy as np\n",
    "import matplotlib.pyplot as plt\n",
    "import seaborn as sns\n",
    "\n",
    "\n",
    "from sklearn.model_selection import train_test_split\n",
    "from sklearn.metrics import accuracy_score, confusion_matrix, classification_report\n",
    "\n",
    "import xgboost as xgb\n",
    "from sklearn.preprocessing import OneHotEncoder\n",
    "from sklearn.preprocessing import StandardScaler\n",
    "\n",
    "from imblearn.over_sampling import SMOTE"
   ]
  },
  {
   "cell_type": "code",
   "execution_count": 110,
   "metadata": {},
   "outputs": [],
   "source": [
    "past_loans = pd.read_csv('PastLoans.csv')"
   ]
  },
  {
   "cell_type": "code",
   "execution_count": 5,
   "metadata": {},
   "outputs": [],
   "source": [
    "new_applicants = pd.read_csv('NewApplications_Lender2_Round1.csv')"
   ]
  },
  {
   "cell_type": "code",
   "execution_count": 107,
   "metadata": {},
   "outputs": [],
   "source": [
    "# Group by 'sex' and 'default', and count the occurrences\n",
    "#grouped_data = past_loans.groupby(['sex', 'default']).size().unstack()\n",
    "\n",
    "# Create the bar plot\n",
    "#grouped_data.plot(kind='bar', stacked=False)\n",
    "\n",
    "# Add titles and labels\n",
    "#plt.title('Number of Defaulters by Sex')\n",
    "#plt.xlabel('Sex (0=Female, 1=Male)')\n",
    "#plt.ylabel('Count')\n",
    "#plt.xticks(rotation=0)\n",
    "\n",
    "# Show the plot\n",
    "#plt.show()"
   ]
  },
  {
   "cell_type": "code",
   "execution_count": 108,
   "metadata": {},
   "outputs": [],
   "source": [
    "# Group by 'married' and 'default', and count the occurrences\n",
    "#grouped_data2 = past_loans.groupby(['married', 'default']).size().unstack()\n",
    "\n",
    "# Create the bar plot\n",
    "#grouped_data2.plot(kind='bar', stacked=False)\n",
    "\n",
    "# Add titles and labels\n",
    "#plt.title('Number of Defaulters by Marital Status')\n",
    "#plt.xlabel('Marital Status (0=Not Married, 1=Married)')\n",
    "#plt.ylabel('Count')\n",
    "#plt.xticks(rotation=0)\n",
    "\n",
    "# Show the plot\n",
    "#plt.show()"
   ]
  },
  {
   "cell_type": "code",
   "execution_count": 109,
   "metadata": {},
   "outputs": [],
   "source": [
    "# Define smaller bins for people earning less than 50k, and larger bins for others\n",
    "#bins = [0, 10000, 20000, 30000, 40000, 50000, 100000, 500000, 1000000]\n",
    "#bin_labels = ['0-10k', '10-20k', '20-30k', '30-40k', '40-50k', '50-100k', '100-500k', '500k-1M']\n",
    "\n",
    "# Create a new column 'income_bin' by binning the 'income' column\n",
    "#past_loans['income_bin'] = pd.cut(past_loans['income'], bins=bins, labels=bin_labels)\n",
    "\n",
    "# Group by 'income_bin' and 'default', and count the occurrences\n",
    "#grouped_data = past_loans.groupby(['income_bin', 'default']).size().unstack()\n",
    "\n",
    "# Create the bar plot\n",
    "#grouped_data.plot(kind='bar', stacked=False)\n",
    "\n",
    "# Add titles and labels\n",
    "#plt.title('Number of Defaulters by Income Range')\n",
    "#plt.xlabel('Income Range')\n",
    "#plt.ylabel('Count')\n",
    "#plt.xticks(rotation=45)\n",
    "\n",
    "# Show the plot\n",
    "#plt.show()\n"
   ]
  },
  {
   "cell_type": "code",
   "execution_count": 11,
   "metadata": {},
   "outputs": [
    {
     "data": {
      "text/plain": [
       "default\n",
       "0    90053\n",
       "1     9947\n",
       "Name: count, dtype: int64"
      ]
     },
     "execution_count": 11,
     "metadata": {},
     "output_type": "execute_result"
    }
   ],
   "source": [
    "past_loans['default'].value_counts()"
   ]
  },
  {
   "cell_type": "code",
   "execution_count": 111,
   "metadata": {},
   "outputs": [
    {
     "data": {
      "text/html": [
       "<div>\n",
       "<style scoped>\n",
       "    .dataframe tbody tr th:only-of-type {\n",
       "        vertical-align: middle;\n",
       "    }\n",
       "\n",
       "    .dataframe tbody tr th {\n",
       "        vertical-align: top;\n",
       "    }\n",
       "\n",
       "    .dataframe thead th {\n",
       "        text-align: right;\n",
       "    }\n",
       "</style>\n",
       "<table border=\"1\" class=\"dataframe\">\n",
       "  <thead>\n",
       "    <tr style=\"text-align: right;\">\n",
       "      <th></th>\n",
       "      <th>sex</th>\n",
       "      <th>married</th>\n",
       "      <th>income</th>\n",
       "      <th>digital1</th>\n",
       "      <th>digital2</th>\n",
       "      <th>digital3</th>\n",
       "      <th>default</th>\n",
       "      <th>employment_employed</th>\n",
       "      <th>employment_retired</th>\n",
       "      <th>employment_student</th>\n",
       "      <th>employment_unemployed</th>\n",
       "    </tr>\n",
       "  </thead>\n",
       "  <tbody>\n",
       "    <tr>\n",
       "      <th>0</th>\n",
       "      <td>1</td>\n",
       "      <td>0</td>\n",
       "      <td>0</td>\n",
       "      <td>0.749267</td>\n",
       "      <td>0.422656</td>\n",
       "      <td>0.738735</td>\n",
       "      <td>0</td>\n",
       "      <td>0.0</td>\n",
       "      <td>0.0</td>\n",
       "      <td>0.0</td>\n",
       "      <td>1.0</td>\n",
       "    </tr>\n",
       "    <tr>\n",
       "      <th>1</th>\n",
       "      <td>1</td>\n",
       "      <td>1</td>\n",
       "      <td>26108</td>\n",
       "      <td>0.697428</td>\n",
       "      <td>0.596361</td>\n",
       "      <td>0.733947</td>\n",
       "      <td>0</td>\n",
       "      <td>1.0</td>\n",
       "      <td>0.0</td>\n",
       "      <td>0.0</td>\n",
       "      <td>0.0</td>\n",
       "    </tr>\n",
       "    <tr>\n",
       "      <th>2</th>\n",
       "      <td>1</td>\n",
       "      <td>1</td>\n",
       "      <td>11810</td>\n",
       "      <td>0.000000</td>\n",
       "      <td>0.652496</td>\n",
       "      <td>0.000000</td>\n",
       "      <td>0</td>\n",
       "      <td>1.0</td>\n",
       "      <td>0.0</td>\n",
       "      <td>0.0</td>\n",
       "      <td>0.0</td>\n",
       "    </tr>\n",
       "    <tr>\n",
       "      <th>3</th>\n",
       "      <td>1</td>\n",
       "      <td>1</td>\n",
       "      <td>0</td>\n",
       "      <td>0.000000</td>\n",
       "      <td>0.000000</td>\n",
       "      <td>0.000000</td>\n",
       "      <td>0</td>\n",
       "      <td>0.0</td>\n",
       "      <td>0.0</td>\n",
       "      <td>0.0</td>\n",
       "      <td>1.0</td>\n",
       "    </tr>\n",
       "    <tr>\n",
       "      <th>4</th>\n",
       "      <td>0</td>\n",
       "      <td>1</td>\n",
       "      <td>6310</td>\n",
       "      <td>0.000000</td>\n",
       "      <td>0.041123</td>\n",
       "      <td>0.203202</td>\n",
       "      <td>0</td>\n",
       "      <td>0.0</td>\n",
       "      <td>1.0</td>\n",
       "      <td>0.0</td>\n",
       "      <td>0.0</td>\n",
       "    </tr>\n",
       "  </tbody>\n",
       "</table>\n",
       "</div>"
      ],
      "text/plain": [
       "   sex  married  income  digital1  digital2  digital3  default  \\\n",
       "0    1        0       0  0.749267  0.422656  0.738735        0   \n",
       "1    1        1   26108  0.697428  0.596361  0.733947        0   \n",
       "2    1        1   11810  0.000000  0.652496  0.000000        0   \n",
       "3    1        1       0  0.000000  0.000000  0.000000        0   \n",
       "4    0        1    6310  0.000000  0.041123  0.203202        0   \n",
       "\n",
       "   employment_employed  employment_retired  employment_student  \\\n",
       "0                  0.0                 0.0                 0.0   \n",
       "1                  1.0                 0.0                 0.0   \n",
       "2                  1.0                 0.0                 0.0   \n",
       "3                  0.0                 0.0                 0.0   \n",
       "4                  0.0                 1.0                 0.0   \n",
       "\n",
       "   employment_unemployed  \n",
       "0                    1.0  \n",
       "1                    0.0  \n",
       "2                    0.0  \n",
       "3                    1.0  \n",
       "4                    0.0  "
      ]
     },
     "execution_count": 111,
     "metadata": {},
     "output_type": "execute_result"
    }
   ],
   "source": [
    "# Step 1: Map 'sex' column\n",
    "past_loans['sex'] = past_loans['sex'].map({'M': 1, 'F': 0})\n",
    "\n",
    "# Step 2: One-hot encode the 'employment' column\n",
    "encoder = OneHotEncoder(sparse_output=False)  # sparse_output=False returns a dense array\n",
    "employment_encoded = encoder.fit_transform(past_loans[['employment']])\n",
    "\n",
    "# Step 3: Create a DataFrame for the encoded 'employment' columns\n",
    "employment_encoded_df = pd.DataFrame(employment_encoded, columns=encoder.get_feature_names_out(['employment']))\n",
    "\n",
    "# Step 4: Concatenate the original DataFrame with the new one-hot encoded 'employment' columns\n",
    "past_loans_encoded = pd.concat([past_loans.drop('employment', axis=1), employment_encoded_df], axis=1)\n",
    "\n",
    "# Display the updated DataFrame\n",
    "past_loans_encoded.head()"
   ]
  },
  {
   "cell_type": "code",
   "execution_count": 68,
   "metadata": {},
   "outputs": [
    {
     "name": "stderr",
     "output_type": "stream",
     "text": [
      "/Users/tesscoullon/.pyenv/versions/3.10.6/envs/lending_game_env/lib/python3.10/site-packages/xgboost/core.py:158: UserWarning: [17:45:47] WARNING: /Users/runner/work/xgboost/xgboost/src/learner.cc:740: \n",
      "Parameters: { \"use_label_encoder\" } are not used.\n",
      "\n",
      "  warnings.warn(smsg, UserWarning)\n"
     ]
    },
    {
     "name": "stdout",
     "output_type": "stream",
     "text": [
      "Accuracy: 0.9020\n",
      "Classification Report:\n",
      "              precision    recall  f1-score   support\n",
      "\n",
      "           0       0.90      1.00      0.95     18049\n",
      "           1       0.45      0.02      0.04      1951\n",
      "\n",
      "    accuracy                           0.90     20000\n",
      "   macro avg       0.68      0.51      0.50     20000\n",
      "weighted avg       0.86      0.90      0.86     20000\n",
      "\n"
     ]
    }
   ],
   "source": [
    "# Import necessary libraries\n",
    "\n",
    "\n",
    "# Prepare the data\n",
    "X = past_loans_encoded.drop('default', axis=1)  # Features (drop the target column)\n",
    "y = past_loans_encoded['default']  # Target (default column)\n",
    "\n",
    "# Split the data into training and testing sets\n",
    "X_train, X_test, y_train, y_test = train_test_split(X, y, test_size=0.2, random_state=42)\n",
    "\n",
    "# Initialize XGBoost classifier\n",
    "xgb_model = xgb.XGBClassifier(use_label_encoder=False, eval_metric='logloss')\n",
    "\n",
    "# Train the model\n",
    "xgb_model.fit(X_train, y_train)\n",
    "\n",
    "# Make predictions on the test set\n",
    "y_pred = xgb_model.predict(X_test)\n",
    "\n",
    "# Evaluate the model\n",
    "accuracy = accuracy_score(y_test, y_pred)\n",
    "class_report = classification_report(y_test, y_pred)\n",
    "\n",
    "# Output results\n",
    "print(f\"Accuracy: {accuracy:.4f}\")\n",
    "\n",
    "print(\"Classification Report:\")\n",
    "print(class_report)\n"
   ]
  },
  {
   "cell_type": "code",
   "execution_count": 67,
   "metadata": {},
   "outputs": [
    {
     "data": {
      "image/png": "[encoded data removed]",
      "text/plain": [
       "<Figure size 800x600 with 1 Axes>"
      ]
     },
     "metadata": {},
     "output_type": "display_data"
    }
   ],
   "source": [
    "# Generate confusion matrix\n",
    "cm = confusion_matrix(y_test, y_pred)\n",
    "\n",
    "# Create a DataFrame for better visualization\n",
    "cm_df = pd.DataFrame(cm, index=['Not Default', 'Default'], columns=['Not Default', 'Default'])\n",
    "\n",
    "# Plotting the confusion matrix\n",
    "plt.figure(figsize=(8, 6))\n",
    "sns.heatmap(cm_df, annot=True, fmt='d', cmap='Blues', cbar=False)\n",
    "plt.title('Confusion Matrix')\n",
    "plt.xlabel('Predicted')\n",
    "plt.ylabel('True')\n",
    "plt.show()"
   ]
  },
  {
   "cell_type": "code",
   "execution_count": 112,
   "metadata": {},
   "outputs": [
    {
     "data": {
      "text/plain": [
       "Index(['sex', 'married', 'income', 'digital1', 'digital2', 'digital3',\n",
       "       'default', 'employment_employed', 'employment_retired',\n",
       "       'employment_student', 'employment_unemployed'],\n",
       "      dtype='object')"
      ]
     },
     "execution_count": 112,
     "metadata": {},
     "output_type": "execute_result"
    }
   ],
   "source": [
    "past_loans_encoded.columns"
   ]
  },
  {
   "cell_type": "code",
   "execution_count": 113,
   "metadata": {},
   "outputs": [],
   "source": [
    "# Create interaction features\n",
    "past_loans_encoded['married_employed'] = past_loans_encoded['married'] * past_loans_encoded['employment_employed']\n",
    "past_loans_encoded['married_retired'] = past_loans_encoded['married'] * past_loans_encoded['employment_retired']\n",
    "past_loans_encoded['married_student'] = past_loans_encoded['married'] * past_loans_encoded['employment_student']\n",
    "past_loans_encoded['married_unemployed'] = past_loans_encoded['married'] * past_loans_encoded['employment_unemployed']\n"
   ]
  },
  {
   "cell_type": "code",
   "execution_count": 114,
   "metadata": {},
   "outputs": [],
   "source": [
    "scaler = StandardScaler()\n",
    "past_loans_encoded['income_standardized'] = scaler.fit_transform(past_loans_encoded[['income']])"
   ]
  },
  {
   "cell_type": "code",
   "execution_count": 115,
   "metadata": {},
   "outputs": [],
   "source": [
    "features = [\n",
    "    'sex', 'married', 'digital1', 'digital2', 'digital3',\n",
    "    'employment_employed', 'employment_retired',\n",
    "    'employment_student', 'employment_unemployed',\n",
    "    'married_employed', 'married_retired',\n",
    "    'married_student', 'married_unemployed',\n",
    "    'income_standardized'  # Keeping the standardized income\n",
    "]\n",
    "\n",
    "X = past_loans_encoded[features]\n",
    "y = past_loans_encoded['default']"
   ]
  },
  {
   "cell_type": "code",
   "execution_count": 116,
   "metadata": {},
   "outputs": [
    {
     "name": "stderr",
     "output_type": "stream",
     "text": [
      "/Users/tesscoullon/.pyenv/versions/3.10.6/envs/lending_game_env/lib/python3.10/site-packages/xgboost/core.py:158: UserWarning: [12:20:19] WARNING: /Users/runner/work/xgboost/xgboost/src/learner.cc:740: \n",
      "Parameters: { \"use_label_encoder\" } are not used.\n",
      "\n",
      "  warnings.warn(smsg, UserWarning)\n"
     ]
    },
    {
     "name": "stdout",
     "output_type": "stream",
     "text": [
      "Accuracy: 0.902\n",
      "Confusion Matrix:\n",
      " [[17987    62]\n",
      " [ 1898    53]]\n"
     ]
    }
   ],
   "source": [
    "# Split the data\n",
    "X_train, X_test, y_train, y_test = train_test_split(X, y, test_size=0.2, random_state=42)\n",
    "\n",
    "# Initialize XGBoost classifier\n",
    "xgb_model = xgb.XGBClassifier(use_label_encoder=False, eval_metric='logloss')\n",
    "\n",
    "# Train the model\n",
    "xgb_model.fit(X_train, y_train)\n",
    "\n",
    "# Make predictions on the test set\n",
    "y_pred = xgb_model.predict(X_test)\n",
    "\n",
    "# Evaluate the model\n",
    "accuracy = accuracy_score(y_test, y_pred)\n",
    "conf_matrix = confusion_matrix(y_test, y_pred)\n",
    "class_report = classification_report(y_test, y_pred)\n",
    "\n",
    "print(f\"Accuracy: {accuracy}\")\n",
    "print(\"Confusion Matrix:\\n\", conf_matrix)"
   ]
  },
  {
   "cell_type": "code",
   "execution_count": 117,
   "metadata": {},
   "outputs": [
    {
     "name": "stderr",
     "output_type": "stream",
     "text": [
      "/Users/tesscoullon/.pyenv/versions/3.10.6/envs/lending_game_env/lib/python3.10/site-packages/xgboost/core.py:158: UserWarning: [12:20:27] WARNING: /Users/runner/work/xgboost/xgboost/src/learner.cc:740: \n",
      "Parameters: { \"use_label_encoder\" } are not used.\n",
      "\n",
      "  warnings.warn(smsg, UserWarning)\n"
     ]
    },
    {
     "name": "stdout",
     "output_type": "stream",
     "text": [
      "Confusion Matrix:\n",
      " [[16481  1530]\n",
      " [ 1417   572]]\n",
      "\n",
      "Classification Report:\n",
      "               precision    recall  f1-score   support\n",
      "\n",
      "           0       0.92      0.92      0.92     18011\n",
      "           1       0.27      0.29      0.28      1989\n",
      "\n",
      "    accuracy                           0.85     20000\n",
      "   macro avg       0.60      0.60      0.60     20000\n",
      "weighted avg       0.86      0.85      0.85     20000\n",
      "\n",
      "\n",
      "Model Accuracy: 0.8527\n"
     ]
    }
   ],
   "source": [
    "X = past_loans_encoded.drop('default', axis=1)  # Features\n",
    "y = past_loans_encoded['default']                 # Target variable\n",
    "\n",
    "# Split the dataset into training and testing sets\n",
    "X_train, X_test, y_train, y_test = train_test_split(X, y, test_size=0.2, random_state=42, stratify=y)\n",
    "\n",
    "# Apply SMOTE to the training data\n",
    "smote = SMOTE(sampling_strategy=0.5, k_neighbors=3, random_state=42)\n",
    "X_train_resampled, y_train_resampled = smote.fit_resample(X_train, y_train)\n",
    "\n",
    "# Initialize XGBoost classifier\n",
    "xgb_model = xgb.XGBClassifier(use_label_encoder=False, eval_metric='logloss')\n",
    "\n",
    "# Train the model on the resampled data\n",
    "xgb_model.fit(X_train_resampled, y_train_resampled)\n",
    "\n",
    "# Make predictions on the test set\n",
    "y_pred = xgb_model.predict(X_test)\n",
    "\n",
    "# Evaluate the model\n",
    "confusion = confusion_matrix(y_test, y_pred)\n",
    "report = classification_report(y_test, y_pred)\n",
    "\n",
    "# Calculate the model accuracy\n",
    "accuracy = accuracy_score(y_test, y_pred)\n",
    "\n",
    "# Print results\n",
    "print(\"Confusion Matrix:\\n\", confusion)\n",
    "print(\"\\nClassification Report:\\n\", report)\n",
    "print(f\"\\nModel Accuracy: {accuracy:.4f}\")  # Print the accuracy"
   ]
  },
  {
   "cell_type": "code",
   "execution_count": 118,
   "metadata": {},
   "outputs": [
    {
     "data": {
      "image/png": "[encoded data removed]",
      "text/plain": [
       "<Figure size 640x480 with 1 Axes>"
      ]
     },
     "metadata": {},
     "output_type": "display_data"
    }
   ],
   "source": [
    "xgb_model.feature_importances_  # Get feature importances\n",
    "plt.barh(X.columns, xgb_model.feature_importances_)\n",
    "plt.xlabel(\"Feature Importance\")\n",
    "plt.ylabel(\"Feature\")\n",
    "plt.title(\"Feature Importances\")\n",
    "plt.show()"
   ]
  },
  {
   "cell_type": "code",
   "execution_count": null,
   "metadata": {},
   "outputs": [],
   "source": []
  }
 ],
 "metadata": {
  "kernelspec": {
   "display_name": "lending_game_env",
   "language": "python",
   "name": "python3"
  },
  "language_info": {
   "codemirror_mode": {
    "name": "ipython",
    "version": 3
   },
   "file_extension": ".py",
   "mimetype": "text/x-python",
   "name": "python",
   "nbconvert_exporter": "python",
   "pygments_lexer": "ipython3",
   "version": "3.10.6"
  }
 },
 "nbformat": 4,
 "nbformat_minor": 2
}
